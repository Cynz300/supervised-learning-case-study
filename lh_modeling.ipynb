{
 "cells": [
  {
   "cell_type": "code",
   "execution_count": 3,
   "id": "2f3d3200",
   "metadata": {},
   "outputs": [],
   "source": [
    "import pandas as pd\n",
    "import numpy as np\n",
    "from sklearn.ensemble import GradientBoostingClassifier  \n",
    "from sklearn.model_selection import train_test_split\n",
    "from sklearn.metrics import mean_squared_error as mse\n",
    "from sklearn.metrics import accuracy_score, recall_score, precision_score\n",
    "import matplotlib.pyplot as plt\n",
    "\n",
    "%matplotlib inline\n",
    "\n"
   ]
  },
  {
   "cell_type": "code",
   "execution_count": 4,
   "id": "ea87691d",
   "metadata": {},
   "outputs": [],
   "source": [
    "churn = pd.read_csv('data/cleaned_churn.csv', index_col = 0)"
   ]
  },
  {
   "cell_type": "code",
   "execution_count": null,
   "id": "2d446e4a-f85f-4a60-9d66-ee16576b1fd8",
   "metadata": {},
   "outputs": [],
   "source": [
    "c"
   ]
  },
  {
   "cell_type": "code",
   "execution_count": 5,
   "id": "a0f89c06",
   "metadata": {},
   "outputs": [],
   "source": [
    "churn['last_trip_date'] = pd.to_datetime(churn['last_trip_date'])\n",
    "churn['signup_date'] = pd.to_datetime(churn['signup_date'])"
   ]
  },
  {
   "cell_type": "code",
   "execution_count": 6,
   "id": "14134f4d-3a34-4f99-93af-6ff0f60d4767",
   "metadata": {},
   "outputs": [],
   "source": [
    "earliest = churn['signup_date'].min().toordinal()"
   ]
  },
  {
   "cell_type": "code",
   "execution_count": 7,
   "id": "ca7a0776-54b2-4478-a531-ea165e546ad9",
   "metadata": {},
   "outputs": [],
   "source": [
    "churn['signup_date'] = churn['signup_date'].apply(lambda x: x.toordinal() - earliest)"
   ]
  },
  {
   "cell_type": "code",
   "execution_count": 8,
   "id": "6a3e5bd6",
   "metadata": {},
   "outputs": [],
   "source": [
    "X = churn.drop(['last_trip_date','retention'], axis=1)\n",
    "y = churn['retention']"
   ]
  },
  {
   "cell_type": "code",
   "execution_count": 9,
   "id": "0acc79b3",
   "metadata": {},
   "outputs": [],
   "source": [
    "X_train, X_test, y_train, y_test = train_test_split(X, y)"
   ]
  },
  {
   "cell_type": "code",
   "execution_count": 46,
   "id": "3625f234",
   "metadata": {},
   "outputs": [],
   "source": [
    "model = GradientBoostingClassifier(learning_rate = .1,\n",
    "                                 n_estimators=100)"
   ]
  },
  {
   "cell_type": "code",
   "execution_count": 47,
   "id": "e4582229",
   "metadata": {},
   "outputs": [],
   "source": [
    "model.fit(X_train, y_train)\n",
    "feat_imp = model.feature_importances_"
   ]
  },
  {
   "cell_type": "code",
   "execution_count": 48,
   "id": "1e0928da",
   "metadata": {},
   "outputs": [],
   "source": [
    "yhat = model.predict(X_test)"
   ]
  },
  {
   "cell_type": "code",
   "execution_count": 49,
   "id": "08474fb2",
   "metadata": {},
   "outputs": [
    {
     "data": {
      "text/plain": [
       "array([ True, False,  True, ..., False, False,  True])"
      ]
     },
     "execution_count": 49,
     "metadata": {},
     "output_type": "execute_result"
    }
   ],
   "source": [
    "yhat"
   ]
  },
  {
   "cell_type": "code",
   "execution_count": 51,
   "id": "83bfd540",
   "metadata": {},
   "outputs": [
    {
     "name": "stdout",
     "output_type": "stream",
     "text": [
      "dict_keys(['fit_time', 'score_time', 'test_acc', 'train_acc', 'test_prec', 'train_prec', 'test_rec', 'train_rec'])\n",
      "0.7886333333333333\n",
      "0.7460465353175694\n",
      "0.6620458679319889\n"
     ]
    }
   ],
   "source": [
    "from sklearn.model_selection import cross_validate\n",
    "\n",
    "scoring = {'acc': 'accuracy',\n",
    "           'prec': 'precision',\n",
    "           'rec': 'recall'}\n",
    "\n",
    "scores = cross_validate(GradientBoostingClassifier(), X_train, y_train, scoring=scoring,\n",
    "                         cv=10, return_train_score=True)\n",
    "print(scores.keys())\n",
    "print(np.mean(scores['test_acc'])) \n",
    "print(np.mean(scores['test_prec']))\n",
    "print(np.mean(scores['test_rec']))"
   ]
  },
  {
   "cell_type": "code",
   "execution_count": 31,
   "id": "93c7f3d1",
   "metadata": {},
   "outputs": [
    {
     "name": "stdout",
     "output_type": "stream",
     "text": [
      "avg_dist : 0.018007252677353636\n",
      "avg_rating_by_driver : 0.22732149969624085\n",
      "avg_rating_of_driver : 0.011906099882766138\n",
      "avg_surge : 0.0043499868399234955\n",
      "surge_pct : 0.1863985912999881\n",
      "trips_in_first_30_days : 0.04401350413575053\n",
      "luxury_car_user : 0.06908522816760335\n",
      "weekday_pct : 0.16936555995377836\n",
      "rating_by_driver? : 0.0008269753609271424\n",
      "rating_of_driver? : 0.0007987614404506778\n",
      "King's Landing : 0.1654351791912978\n",
      "Winterfell : 0.014682716808935495\n",
      "Android : 0.03762522016960844\n",
      "iPhone : 0.05018342437537609\n"
     ]
    }
   ],
   "source": [
    "for a, b in zip(X.columns, feat_imp):\n",
    "    print(f\"{a} : {b}\")"
   ]
  },
  {
   "cell_type": "code",
   "execution_count": 10,
   "id": "80b7d329-ceed-461e-bb66-3f46a5b6d787",
   "metadata": {},
   "outputs": [],
   "source": [
    "from sklearn.model_selection import GridSearchCV\n",
    "from tqdm import tqdm"
   ]
  },
  {
   "cell_type": "code",
   "execution_count": 12,
   "id": "ea2d1015",
   "metadata": {},
   "outputs": [
    {
     "name": "stdout",
     "output_type": "stream",
     "text": [
      "Fitting 5 folds for each of 5 candidates, totalling 25 fits\n"
     ]
    },
    {
     "name": "stderr",
     "output_type": "stream",
     "text": [
      "0it [00:00, ?it/s]"
     ]
    },
    {
     "data": {
      "text/plain": [
       "<tqdm.std.tqdm at 0x7f124c87c3d0>"
      ]
     },
     "execution_count": 12,
     "metadata": {},
     "output_type": "execute_result"
    }
   ],
   "source": [
    "gradient_boosting_grid = {'learning_rate': [0.15,0.1,0.2,0.05,0.02],\n",
    "                          'max_depth': [4],\n",
    "                          'min_samples_leaf': [1],\n",
    "                          'max_features': ['sqrt'],\n",
    "                          'subsample' : [1],\n",
    "                          'n_estimators': [400],\n",
    "                          'random_state': [1]}\n",
    "grid_seearch_boosted_cleaned_1 = GridSearchCV(estimator=GradientBoostingClassifier(), \n",
    "                                            n_jobs = -1,\n",
    "                                            param_grid=gradient_boosting_grid, \n",
    "                                             cv=5, verbose=1, return_train_score=True)\n",
    "\n",
    "tqdm(grid_seearch_boosted_cleaned_1.fit(X_train,y_train))\n",
    "\n"
   ]
  },
  {
   "cell_type": "code",
   "execution_count": 13,
   "id": "4995f97f-88d8-4f3f-9ee1-45458f2dbe53",
   "metadata": {},
   "outputs": [
    {
     "data": {
      "text/plain": [
       "{'learning_rate': 0.1,\n",
       " 'max_depth': 4,\n",
       " 'max_features': 'sqrt',\n",
       " 'min_samples_leaf': 1,\n",
       " 'n_estimators': 400,\n",
       " 'random_state': 1,\n",
       " 'subsample': 1}"
      ]
     },
     "execution_count": 13,
     "metadata": {},
     "output_type": "execute_result"
    }
   ],
   "source": [
    "grid_seearch_boosted_cleaned_1.best_params_\n"
   ]
  },
  {
   "cell_type": "code",
   "execution_count": 46,
   "id": "3cedd268-cbc5-42ad-96c7-ffa8db13975f",
   "metadata": {},
   "outputs": [
    {
     "data": {
      "text/plain": [
       "0.7898333333333334"
      ]
     },
     "execution_count": 46,
     "metadata": {},
     "output_type": "execute_result"
    }
   ],
   "source": [
    "grid_seearch_boosted_cleaned.best_score_"
   ]
  },
  {
   "cell_type": "code",
   "execution_count": 23,
   "id": "fecd1df3-8e25-4097-bce6-ab049a164a5b",
   "metadata": {},
   "outputs": [],
   "source": [
    "g = GradientBoostingClassifier(criterion = 'gini')"
   ]
  },
  {
   "cell_type": "code",
   "execution_count": 51,
   "id": "cd8a8d9f-25e2-41c3-9261-12a5502c2013",
   "metadata": {},
   "outputs": [],
   "source": [
    "from sklearn.metrics import precision_score, recall_score, confusion_matrix, accuracy_score\n"
   ]
  },
  {
   "cell_type": "code",
   "execution_count": 54,
   "id": "c8ab1d18-1bda-4c27-9db6-b85758aa0637",
   "metadata": {},
   "outputs": [
    {
     "data": {
      "text/plain": [
       "{'learning_rate': 0.15,\n",
       " 'max_depth': 4,\n",
       " 'max_features': 'sqrt',\n",
       " 'min_samples_leaf': 1,\n",
       " 'n_estimators': 100,\n",
       " 'random_state': 1,\n",
       " 'subsample': 1}"
      ]
     },
     "execution_count": 54,
     "metadata": {},
     "output_type": "execute_result"
    }
   ],
   "source": [
    "grid_seearch_boosted_cleaned.best_params_"
   ]
  },
  {
   "cell_type": "code",
   "execution_count": 43,
   "id": "4c95278d-08c0-4514-99c9-1142cbf97af1",
   "metadata": {},
   "outputs": [],
   "source": [
    "from sklearn.model_selection import cross_validate"
   ]
  },
  {
   "cell_type": "code",
   "execution_count": 15,
   "id": "4e9a2716-46e0-40f0-ad92-f205572922c8",
   "metadata": {},
   "outputs": [
    {
     "name": "stdout",
     "output_type": "stream",
     "text": [
      "dict_keys(['fit_time', 'score_time', 'test_acc', 'train_acc', 'test_prec', 'train_prec', 'test_rec', 'train_rec'])\n",
      "0.7923666666666667\n",
      "0.7502710850214088\n",
      "0.6720382200553392\n"
     ]
    }
   ],
   "source": [
    "from sklearn.model_selection import cross_validate\n",
    "\n",
    "scoring = {'acc': 'accuracy',\n",
    "           'prec': 'precision',\n",
    "           'rec': 'recall'}\n",
    "\n",
    "scores = cross_validate(GradientBoostingClassifier(learning_rate = 0.025, max_depth = 4, max_features =  'sqrt', \n",
    "                                                  min_samples_leaf = 1,\n",
    "                                                  n_estimators = 1000,\n",
    "                                                  random_state = 1), X_train, y_train, scoring=scoring,\n",
    "                         cv=10, return_train_score=True)\n",
    "print(scores.keys())\n",
    "print(np.mean(scores['test_acc'])) \n",
    "print(np.mean(scores['test_prec']))\n",
    "print(np.mean(scores['test_rec']))"
   ]
  },
  {
   "cell_type": "code",
   "execution_count": 16,
   "id": "13f64023-4a9c-4f43-8d26-f8abe81d8504",
   "metadata": {},
   "outputs": [],
   "source": [
    "best_model = GradientBoostingClassifier(learning_rate = 0.025, max_depth = 4, max_features =  'sqrt', \n",
    "                                                  min_samples_leaf = 1,\n",
    "                                                  n_estimators = 1000,\n",
    "                                                  random_state = 1)"
   ]
  },
  {
   "cell_type": "code",
   "execution_count": 18,
   "id": "b1b95ad1-8b94-48c7-a82b-9bbe42a92400",
   "metadata": {},
   "outputs": [
    {
     "data": {
      "text/plain": [
       "GradientBoostingClassifier(learning_rate=0.025, max_depth=4,\n",
       "                           max_features='sqrt', n_estimators=1000,\n",
       "                           random_state=1)"
      ]
     },
     "execution_count": 18,
     "metadata": {},
     "output_type": "execute_result"
    }
   ],
   "source": [
    "best_model.fit(X_train, y_train)"
   ]
  },
  {
   "cell_type": "code",
   "execution_count": 22,
   "id": "301db87c-9e56-4dee-8a0b-69203eb2a936",
   "metadata": {},
   "outputs": [
    {
     "data": {
      "text/plain": [
       "0.6605185779203422"
      ]
     },
     "execution_count": 22,
     "metadata": {},
     "output_type": "execute_result"
    }
   ],
   "source": [
    "recall_score(y_test, best_model.predict(X_test))"
   ]
  },
  {
   "cell_type": "code",
   "execution_count": 23,
   "id": "334c1b29-5261-4b56-aa87-0c2abc93419a",
   "metadata": {},
   "outputs": [
    {
     "data": {
      "text/html": [
       "<div>\n",
       "<style scoped>\n",
       "    .dataframe tbody tr th:only-of-type {\n",
       "        vertical-align: middle;\n",
       "    }\n",
       "\n",
       "    .dataframe tbody tr th {\n",
       "        vertical-align: top;\n",
       "    }\n",
       "\n",
       "    .dataframe thead th {\n",
       "        text-align: right;\n",
       "    }\n",
       "</style>\n",
       "<table border=\"1\" class=\"dataframe\">\n",
       "  <thead>\n",
       "    <tr style=\"text-align: right;\">\n",
       "      <th></th>\n",
       "      <th>avg_dist</th>\n",
       "      <th>avg_rating_by_driver</th>\n",
       "      <th>avg_rating_of_driver</th>\n",
       "      <th>avg_surge</th>\n",
       "      <th>last_trip_date</th>\n",
       "      <th>signup_date</th>\n",
       "      <th>surge_pct</th>\n",
       "      <th>trips_in_first_30_days</th>\n",
       "      <th>luxury_car_user</th>\n",
       "      <th>weekday_pct</th>\n",
       "      <th>retention</th>\n",
       "      <th>rating_by_driver?</th>\n",
       "      <th>rating_of_driver?</th>\n",
       "      <th>King's Landing</th>\n",
       "      <th>Winterfell</th>\n",
       "      <th>Android</th>\n",
       "      <th>iPhone</th>\n",
       "    </tr>\n",
       "  </thead>\n",
       "  <tbody>\n",
       "    <tr>\n",
       "      <th>0</th>\n",
       "      <td>6.94</td>\n",
       "      <td>5.0</td>\n",
       "      <td>5.000000</td>\n",
       "      <td>1.00</td>\n",
       "      <td>2014-05-03</td>\n",
       "      <td>11</td>\n",
       "      <td>0.0</td>\n",
       "      <td>0</td>\n",
       "      <td>False</td>\n",
       "      <td>100.0</td>\n",
       "      <td>False</td>\n",
       "      <td>False</td>\n",
       "      <td>False</td>\n",
       "      <td>0</td>\n",
       "      <td>0</td>\n",
       "      <td>1</td>\n",
       "      <td>0</td>\n",
       "    </tr>\n",
       "    <tr>\n",
       "      <th>1</th>\n",
       "      <td>8.06</td>\n",
       "      <td>5.0</td>\n",
       "      <td>5.000000</td>\n",
       "      <td>1.00</td>\n",
       "      <td>2014-01-26</td>\n",
       "      <td>24</td>\n",
       "      <td>0.0</td>\n",
       "      <td>2</td>\n",
       "      <td>True</td>\n",
       "      <td>0.0</td>\n",
       "      <td>False</td>\n",
       "      <td>False</td>\n",
       "      <td>False</td>\n",
       "      <td>0</td>\n",
       "      <td>0</td>\n",
       "      <td>1</td>\n",
       "      <td>0</td>\n",
       "    </tr>\n",
       "    <tr>\n",
       "      <th>2</th>\n",
       "      <td>21.50</td>\n",
       "      <td>4.0</td>\n",
       "      <td>4.601697</td>\n",
       "      <td>1.00</td>\n",
       "      <td>2014-05-21</td>\n",
       "      <td>1</td>\n",
       "      <td>0.0</td>\n",
       "      <td>1</td>\n",
       "      <td>True</td>\n",
       "      <td>100.0</td>\n",
       "      <td>False</td>\n",
       "      <td>False</td>\n",
       "      <td>True</td>\n",
       "      <td>0</td>\n",
       "      <td>1</td>\n",
       "      <td>0</td>\n",
       "      <td>1</td>\n",
       "    </tr>\n",
       "    <tr>\n",
       "      <th>3</th>\n",
       "      <td>9.46</td>\n",
       "      <td>5.0</td>\n",
       "      <td>4.601697</td>\n",
       "      <td>2.75</td>\n",
       "      <td>2014-01-10</td>\n",
       "      <td>8</td>\n",
       "      <td>100.0</td>\n",
       "      <td>1</td>\n",
       "      <td>False</td>\n",
       "      <td>100.0</td>\n",
       "      <td>False</td>\n",
       "      <td>False</td>\n",
       "      <td>True</td>\n",
       "      <td>0</td>\n",
       "      <td>1</td>\n",
       "      <td>1</td>\n",
       "      <td>0</td>\n",
       "    </tr>\n",
       "    <tr>\n",
       "      <th>4</th>\n",
       "      <td>13.77</td>\n",
       "      <td>5.0</td>\n",
       "      <td>4.601697</td>\n",
       "      <td>1.00</td>\n",
       "      <td>2014-05-13</td>\n",
       "      <td>30</td>\n",
       "      <td>0.0</td>\n",
       "      <td>0</td>\n",
       "      <td>False</td>\n",
       "      <td>100.0</td>\n",
       "      <td>False</td>\n",
       "      <td>False</td>\n",
       "      <td>True</td>\n",
       "      <td>0</td>\n",
       "      <td>1</td>\n",
       "      <td>0</td>\n",
       "      <td>1</td>\n",
       "    </tr>\n",
       "    <tr>\n",
       "      <th>...</th>\n",
       "      <td>...</td>\n",
       "      <td>...</td>\n",
       "      <td>...</td>\n",
       "      <td>...</td>\n",
       "      <td>...</td>\n",
       "      <td>...</td>\n",
       "      <td>...</td>\n",
       "      <td>...</td>\n",
       "      <td>...</td>\n",
       "      <td>...</td>\n",
       "      <td>...</td>\n",
       "      <td>...</td>\n",
       "      <td>...</td>\n",
       "      <td>...</td>\n",
       "      <td>...</td>\n",
       "      <td>...</td>\n",
       "      <td>...</td>\n",
       "    </tr>\n",
       "    <tr>\n",
       "      <th>39995</th>\n",
       "      <td>2.06</td>\n",
       "      <td>4.8</td>\n",
       "      <td>4.300000</td>\n",
       "      <td>1.08</td>\n",
       "      <td>2014-04-02</td>\n",
       "      <td>25</td>\n",
       "      <td>9.5</td>\n",
       "      <td>8</td>\n",
       "      <td>False</td>\n",
       "      <td>90.5</td>\n",
       "      <td>False</td>\n",
       "      <td>False</td>\n",
       "      <td>False</td>\n",
       "      <td>0</td>\n",
       "      <td>1</td>\n",
       "      <td>1</td>\n",
       "      <td>0</td>\n",
       "    </tr>\n",
       "    <tr>\n",
       "      <th>39996</th>\n",
       "      <td>2.05</td>\n",
       "      <td>5.0</td>\n",
       "      <td>5.000000</td>\n",
       "      <td>1.00</td>\n",
       "      <td>2014-05-09</td>\n",
       "      <td>7</td>\n",
       "      <td>0.0</td>\n",
       "      <td>2</td>\n",
       "      <td>False</td>\n",
       "      <td>85.7</td>\n",
       "      <td>False</td>\n",
       "      <td>False</td>\n",
       "      <td>False</td>\n",
       "      <td>1</td>\n",
       "      <td>0</td>\n",
       "      <td>0</td>\n",
       "      <td>1</td>\n",
       "    </tr>\n",
       "    <tr>\n",
       "      <th>39997</th>\n",
       "      <td>3.04</td>\n",
       "      <td>5.0</td>\n",
       "      <td>5.000000</td>\n",
       "      <td>1.00</td>\n",
       "      <td>2014-06-24</td>\n",
       "      <td>3</td>\n",
       "      <td>0.0</td>\n",
       "      <td>3</td>\n",
       "      <td>True</td>\n",
       "      <td>33.3</td>\n",
       "      <td>True</td>\n",
       "      <td>False</td>\n",
       "      <td>False</td>\n",
       "      <td>0</td>\n",
       "      <td>1</td>\n",
       "      <td>1</td>\n",
       "      <td>0</td>\n",
       "    </tr>\n",
       "    <tr>\n",
       "      <th>39998</th>\n",
       "      <td>3.49</td>\n",
       "      <td>4.3</td>\n",
       "      <td>3.300000</td>\n",
       "      <td>1.50</td>\n",
       "      <td>2014-02-09</td>\n",
       "      <td>7</td>\n",
       "      <td>40.0</td>\n",
       "      <td>5</td>\n",
       "      <td>False</td>\n",
       "      <td>60.0</td>\n",
       "      <td>False</td>\n",
       "      <td>False</td>\n",
       "      <td>False</td>\n",
       "      <td>0</td>\n",
       "      <td>0</td>\n",
       "      <td>0</td>\n",
       "      <td>1</td>\n",
       "    </tr>\n",
       "    <tr>\n",
       "      <th>39999</th>\n",
       "      <td>4.25</td>\n",
       "      <td>4.7</td>\n",
       "      <td>5.000000</td>\n",
       "      <td>1.00</td>\n",
       "      <td>2014-06-27</td>\n",
       "      <td>17</td>\n",
       "      <td>0.0</td>\n",
       "      <td>2</td>\n",
       "      <td>True</td>\n",
       "      <td>42.9</td>\n",
       "      <td>True</td>\n",
       "      <td>False</td>\n",
       "      <td>False</td>\n",
       "      <td>0</td>\n",
       "      <td>0</td>\n",
       "      <td>0</td>\n",
       "      <td>1</td>\n",
       "    </tr>\n",
       "  </tbody>\n",
       "</table>\n",
       "<p>40000 rows × 17 columns</p>\n",
       "</div>"
      ],
      "text/plain": [
       "       avg_dist  avg_rating_by_driver  avg_rating_of_driver  avg_surge  \\\n",
       "0          6.94                   5.0              5.000000       1.00   \n",
       "1          8.06                   5.0              5.000000       1.00   \n",
       "2         21.50                   4.0              4.601697       1.00   \n",
       "3          9.46                   5.0              4.601697       2.75   \n",
       "4         13.77                   5.0              4.601697       1.00   \n",
       "...         ...                   ...                   ...        ...   \n",
       "39995      2.06                   4.8              4.300000       1.08   \n",
       "39996      2.05                   5.0              5.000000       1.00   \n",
       "39997      3.04                   5.0              5.000000       1.00   \n",
       "39998      3.49                   4.3              3.300000       1.50   \n",
       "39999      4.25                   4.7              5.000000       1.00   \n",
       "\n",
       "      last_trip_date  signup_date  surge_pct  trips_in_first_30_days  \\\n",
       "0         2014-05-03           11        0.0                       0   \n",
       "1         2014-01-26           24        0.0                       2   \n",
       "2         2014-05-21            1        0.0                       1   \n",
       "3         2014-01-10            8      100.0                       1   \n",
       "4         2014-05-13           30        0.0                       0   \n",
       "...              ...          ...        ...                     ...   \n",
       "39995     2014-04-02           25        9.5                       8   \n",
       "39996     2014-05-09            7        0.0                       2   \n",
       "39997     2014-06-24            3        0.0                       3   \n",
       "39998     2014-02-09            7       40.0                       5   \n",
       "39999     2014-06-27           17        0.0                       2   \n",
       "\n",
       "       luxury_car_user  weekday_pct  retention  rating_by_driver?  \\\n",
       "0                False        100.0      False              False   \n",
       "1                 True          0.0      False              False   \n",
       "2                 True        100.0      False              False   \n",
       "3                False        100.0      False              False   \n",
       "4                False        100.0      False              False   \n",
       "...                ...          ...        ...                ...   \n",
       "39995            False         90.5      False              False   \n",
       "39996            False         85.7      False              False   \n",
       "39997             True         33.3       True              False   \n",
       "39998            False         60.0      False              False   \n",
       "39999             True         42.9       True              False   \n",
       "\n",
       "       rating_of_driver?  King's Landing  Winterfell  Android  iPhone  \n",
       "0                  False               0           0        1       0  \n",
       "1                  False               0           0        1       0  \n",
       "2                   True               0           1        0       1  \n",
       "3                   True               0           1        1       0  \n",
       "4                   True               0           1        0       1  \n",
       "...                  ...             ...         ...      ...     ...  \n",
       "39995              False               0           1        1       0  \n",
       "39996              False               1           0        0       1  \n",
       "39997              False               0           1        1       0  \n",
       "39998              False               0           0        0       1  \n",
       "39999              False               0           0        0       1  \n",
       "\n",
       "[40000 rows x 17 columns]"
      ]
     },
     "execution_count": 23,
     "metadata": {},
     "output_type": "execute_result"
    }
   ],
   "source": [
    "churn['Astpor'] = "
   ]
  },
  {
   "cell_type": "code",
   "execution_count": 25,
   "id": "6c329050-afa5-43ce-825f-a05ab6cf9909",
   "metadata": {},
   "outputs": [],
   "source": [
    "liben_churn = pd.read_csv('data/liben_churn.csv')"
   ]
  },
  {
   "cell_type": "code",
   "execution_count": 26,
   "id": "fa95fde2-35ac-4350-b9c6-aa22731a7e78",
   "metadata": {},
   "outputs": [],
   "source": [
    "liben_churn['last_trip_date'] = pd.to_datetime(liben_churn['last_trip_date'])\n",
    "liben_churn['signup_date'] = pd.to_datetime(liben_churn['signup_date'])\n",
    "\n",
    "earliest = liben_churn['signup_date'].min().toordinal()\n",
    "liben_churn['signup_date'] = liben_churn['signup_date'].apply(lambda x: x.toordinal() - earliest)"
   ]
  },
  {
   "cell_type": "code",
   "execution_count": null,
   "id": "4d91a66d-ad73-4bff-8f01-8d61d5a530c7",
   "metadata": {},
   "outputs": [],
   "source": []
  }
 ],
 "metadata": {
  "kernelspec": {
   "display_name": "Python 3",
   "language": "python",
   "name": "python3"
  },
  "language_info": {
   "codemirror_mode": {
    "name": "ipython",
    "version": 3
   },
   "file_extension": ".py",
   "mimetype": "text/x-python",
   "name": "python",
   "nbconvert_exporter": "python",
   "pygments_lexer": "ipython3",
   "version": "3.8.10"
  }
 },
 "nbformat": 4,
 "nbformat_minor": 5
}
