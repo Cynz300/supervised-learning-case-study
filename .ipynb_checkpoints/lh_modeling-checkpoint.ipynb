{
 "cells": [
  {
   "cell_type": "code",
   "execution_count": 2,
   "id": "2f3d3200",
   "metadata": {},
   "outputs": [],
   "source": [
    "import pandas as pd\n",
    "import numpy as np\n",
    "from sklearn.ensemble import GradientBoostingClassifier  \n",
    "from sklearn.model_selection import train_test_split\n",
    "from sklearn.metrics import mean_squared_error as mse\n",
    "from sklearn.metrics import accuracy_score, recall_score, precision_score\n",
    "import matplotlib.pyplot as plt\n",
    "\n",
    "%matplotlib inline\n",
    "\n"
   ]
  },
  {
   "cell_type": "code",
   "execution_count": 6,
   "id": "ea87691d",
   "metadata": {},
   "outputs": [],
   "source": [
    "churn = pd.read_csv('data/cleaned_churn.csv', index_col = 0)"
   ]
  },
  {
   "cell_type": "code",
   "execution_count": 7,
   "id": "a0f89c06",
   "metadata": {},
   "outputs": [],
   "source": [
    "churn['last_trip_date'] = pd.to_datetime(churn['last_trip_date'])\n",
    "churn['signup_date'] = pd.to_datetime(churn['signup_date'])"
   ]
  },
  {
   "cell_type": "code",
   "execution_count": 18,
   "id": "14134f4d-3a34-4f99-93af-6ff0f60d4767",
   "metadata": {},
   "outputs": [],
   "source": [
    "earliest = churn['signup_date'].min().toordinal()"
   ]
  },
  {
   "cell_type": "code",
   "execution_count": 20,
   "id": "ca7a0776-54b2-4478-a531-ea165e546ad9",
   "metadata": {},
   "outputs": [],
   "source": [
    "churn['signup_date'] = churn['signup_date'].apply(lambda x: x.toordinal() - earliest)"
   ]
  },
  {
   "cell_type": "code",
   "execution_count": 21,
   "id": "6a3e5bd6",
   "metadata": {},
   "outputs": [],
   "source": [
    "X = churn.drop(['last_trip_date','retention'], axis=1)\n",
    "y = churn['retention']"
   ]
  },
  {
   "cell_type": "code",
   "execution_count": 27,
   "id": "0acc79b3",
   "metadata": {},
   "outputs": [],
   "source": [
    "X_train, X_test, y_train, y_test = train_test_split(X, y)"
   ]
  },
  {
   "cell_type": "code",
   "execution_count": 46,
   "id": "3625f234",
   "metadata": {},
   "outputs": [],
   "source": [
    "model = GradientBoostingClassifier(learning_rate = .1,\n",
    "                                 n_estimators=100)"
   ]
  },
  {
   "cell_type": "code",
   "execution_count": 47,
   "id": "e4582229",
   "metadata": {},
   "outputs": [],
   "source": [
    "model.fit(X_train, y_train)\n",
    "feat_imp = model.feature_importances_"
   ]
  },
  {
   "cell_type": "code",
   "execution_count": 48,
   "id": "1e0928da",
   "metadata": {},
   "outputs": [],
   "source": [
    "yhat = model.predict(X_test)"
   ]
  },
  {
   "cell_type": "code",
   "execution_count": 49,
   "id": "08474fb2",
   "metadata": {},
   "outputs": [
    {
     "data": {
      "text/plain": [
       "array([ True, False,  True, ..., False, False,  True])"
      ]
     },
     "execution_count": 49,
     "metadata": {},
     "output_type": "execute_result"
    }
   ],
   "source": [
    "yhat"
   ]
  },
  {
   "cell_type": "code",
   "execution_count": 51,
   "id": "83bfd540",
   "metadata": {},
   "outputs": [
    {
     "name": "stdout",
     "output_type": "stream",
     "text": [
      "dict_keys(['fit_time', 'score_time', 'test_acc', 'train_acc', 'test_prec', 'train_prec', 'test_rec', 'train_rec'])\n",
      "0.7886333333333333\n",
      "0.7460465353175694\n",
      "0.6620458679319889\n"
     ]
    }
   ],
   "source": [
    "from sklearn.model_selection import cross_validate\n",
    "\n",
    "scoring = {'acc': 'accuracy',\n",
    "           'prec': 'precision',\n",
    "           'rec': 'recall'}\n",
    "\n",
    "scores = cross_validate(GradientBoostingClassifier(), X_train, y_train, scoring=scoring,\n",
    "                         cv=10, return_train_score=True)\n",
    "print(scores.keys())\n",
    "print(np.mean(scores['test_acc'])) \n",
    "print(np.mean(scores['test_prec']))\n",
    "print(np.mean(scores['test_rec']))"
   ]
  },
  {
   "cell_type": "code",
   "execution_count": 31,
   "id": "93c7f3d1",
   "metadata": {},
   "outputs": [
    {
     "name": "stdout",
     "output_type": "stream",
     "text": [
      "avg_dist : 0.018007252677353636\n",
      "avg_rating_by_driver : 0.22732149969624085\n",
      "avg_rating_of_driver : 0.011906099882766138\n",
      "avg_surge : 0.0043499868399234955\n",
      "surge_pct : 0.1863985912999881\n",
      "trips_in_first_30_days : 0.04401350413575053\n",
      "luxury_car_user : 0.06908522816760335\n",
      "weekday_pct : 0.16936555995377836\n",
      "rating_by_driver? : 0.0008269753609271424\n",
      "rating_of_driver? : 0.0007987614404506778\n",
      "King's Landing : 0.1654351791912978\n",
      "Winterfell : 0.014682716808935495\n",
      "Android : 0.03762522016960844\n",
      "iPhone : 0.05018342437537609\n"
     ]
    }
   ],
   "source": [
    "for a, b in zip(X.columns, feat_imp):\n",
    "    print(f\"{a} : {b}\")"
   ]
  },
  {
   "cell_type": "code",
   "execution_count": 32,
   "id": "80b7d329-ceed-461e-bb66-3f46a5b6d787",
   "metadata": {},
   "outputs": [],
   "source": [
    "from sklearn.model_selection import GridSearchCV\n",
    "from tqdm import tqdm"
   ]
  },
  {
   "cell_type": "code",
   "execution_count": 38,
   "id": "ea2d1015",
   "metadata": {},
   "outputs": [
    {
     "name": "stdout",
     "output_type": "stream",
     "text": [
      "Fitting 5 folds for each of 540 candidates, totalling 2700 fits\n"
     ]
    },
    {
     "name": "stderr",
     "output_type": "stream",
     "text": [
      "0it [00:00, ?it/s]"
     ]
    },
    {
     "data": {
      "text/plain": [
       "<tqdm.std.tqdm at 0x7fded30e1100>"
      ]
     },
     "execution_count": 38,
     "metadata": {},
     "output_type": "execute_result"
    }
   ],
   "source": [
    "gradient_boosting_grid = {'learning_rate': [0.1, 0.15, 0.05],\n",
    "                          'max_depth': [2, 4, 6],\n",
    "                          'min_samples_leaf': [1, 2, .5, .1],\n",
    "                          'max_features': [1.0, 0.3, 0.1,'sqrt','log2'],\n",
    "                          'subsample' : [1, 0.5, 0.25],\n",
    "                          'n_estimators': [100],\n",
    "                          'random_state': [1]}\n",
    "grid_seearch_boosted_cleaned = GridSearchCV(estimator=GradientBoostingClassifier(), \n",
    "                                            n_jobs = -1,\n",
    "                                            param_grid=gradient_boosting_grid, \n",
    "                                             cv=5, verbose=1, return_train_score=True)\n",
    "\n",
    "tqdm(grid_seearch_boosted_cleaned.fit(X_train,y_train))\n",
    "\n"
   ]
  },
  {
   "cell_type": "code",
   "execution_count": 53,
   "id": "4995f97f-88d8-4f3f-9ee1-45458f2dbe53",
   "metadata": {},
   "outputs": [
    {
     "data": {
      "text/plain": [
       "{'learning_rate': 0.15,\n",
       " 'max_depth': 4,\n",
       " 'max_features': 'sqrt',\n",
       " 'min_samples_leaf': 1,\n",
       " 'n_estimators': 100,\n",
       " 'random_state': 1,\n",
       " 'subsample': 1}"
      ]
     },
     "execution_count": 53,
     "metadata": {},
     "output_type": "execute_result"
    }
   ],
   "source": [
    "grid_seearch_boosted_cleaned.best_params_\n"
   ]
  },
  {
   "cell_type": "code",
   "execution_count": 46,
   "id": "3cedd268-cbc5-42ad-96c7-ffa8db13975f",
   "metadata": {},
   "outputs": [
    {
     "data": {
      "text/plain": [
       "0.7898333333333334"
      ]
     },
     "execution_count": 46,
     "metadata": {},
     "output_type": "execute_result"
    }
   ],
   "source": [
    "grid_seearch_boosted_cleaned.best_score_"
   ]
  },
  {
   "cell_type": "code",
   "execution_count": 23,
   "id": "fecd1df3-8e25-4097-bce6-ab049a164a5b",
   "metadata": {},
   "outputs": [],
   "source": [
    "g = GradientBoostingClassifier(criterion = 'gini')"
   ]
  },
  {
   "cell_type": "code",
   "execution_count": 51,
   "id": "cd8a8d9f-25e2-41c3-9261-12a5502c2013",
   "metadata": {},
   "outputs": [],
   "source": [
    "from sklearn.metrics import precision_score, recall_score, confusion_matrix, accuracy_score\n"
   ]
  },
  {
   "cell_type": "code",
   "execution_count": 54,
   "id": "c8ab1d18-1bda-4c27-9db6-b85758aa0637",
   "metadata": {},
   "outputs": [
    {
     "data": {
      "text/plain": [
       "{'learning_rate': 0.15,\n",
       " 'max_depth': 4,\n",
       " 'max_features': 'sqrt',\n",
       " 'min_samples_leaf': 1,\n",
       " 'n_estimators': 100,\n",
       " 'random_state': 1,\n",
       " 'subsample': 1}"
      ]
     },
     "execution_count": 54,
     "metadata": {},
     "output_type": "execute_result"
    }
   ],
   "source": [
    "grid_seearch_boosted_cleaned.best_params_"
   ]
  },
  {
   "cell_type": "code",
   "execution_count": 43,
   "id": "4c95278d-08c0-4514-99c9-1142cbf97af1",
   "metadata": {},
   "outputs": [],
   "source": [
    "from sklearn.model_selection import cross_validate"
   ]
  },
  {
   "cell_type": "code",
   "execution_count": 55,
   "id": "4e9a2716-46e0-40f0-ad92-f205572922c8",
   "metadata": {},
   "outputs": [
    {
     "name": "stdout",
     "output_type": "stream",
     "text": [
      "dict_keys(['fit_time', 'score_time', 'test_acc', 'train_acc', 'test_prec', 'train_prec', 'test_rec', 'train_rec'])\n",
      "0.7896666666666666\n",
      "0.7484210158525815\n",
      "0.6652509721994007\n"
     ]
    }
   ],
   "source": [
    "from sklearn.model_selection import cross_validate\n",
    "\n",
    "scoring = {'acc': 'accuracy',\n",
    "           'prec': 'precision',\n",
    "           'rec': 'recall'}\n",
    "\n",
    "scores = cross_validate(GradientBoostingClassifier(learning_rate = 0.15, max_depth = 4, max_features =  'sqrt', \n",
    "                                                  min_samples_leaf = 1,\n",
    "                                                  n_estimators = 100,\n",
    "                                                  random_state = 1), X_train, y_train, scoring=scoring,\n",
    "                         cv=10, return_train_score=True)\n",
    "print(scores.keys())\n",
    "print(np.mean(scores['test_acc'])) \n",
    "print(np.mean(scores['test_prec']))\n",
    "print(np.mean(scores['test_rec']))"
   ]
  },
  {
   "cell_type": "code",
   "execution_count": null,
   "id": "13f64023-4a9c-4f43-8d26-f8abe81d8504",
   "metadata": {},
   "outputs": [],
   "source": []
  }
 ],
 "metadata": {
  "kernelspec": {
   "display_name": "Python 3",
   "language": "python",
   "name": "python3"
  },
  "language_info": {
   "codemirror_mode": {
    "name": "ipython",
    "version": 3
   },
   "file_extension": ".py",
   "mimetype": "text/x-python",
   "name": "python",
   "nbconvert_exporter": "python",
   "pygments_lexer": "ipython3",
   "version": "3.8.2"
  }
 },
 "nbformat": 4,
 "nbformat_minor": 5
}
