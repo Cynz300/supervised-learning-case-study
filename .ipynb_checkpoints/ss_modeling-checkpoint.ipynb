{
 "cells": [
  {
   "cell_type": "code",
   "execution_count": 43,
   "id": "2f3d3200",
   "metadata": {},
   "outputs": [],
   "source": [
    "import pandas as pd\n",
    "import numpy as np\n",
    "from sklearn.ensemble import GradientBoostingClassifier  \n",
    "from sklearn.model_selection import train_test_split\n",
    "from sklearn.metrics import mean_squared_error as mse\n",
    "from sklearn.metrics import accuracy_score, recall_score, precision_score\n",
    "import matplotlib.pyplot as plt\n",
    "\n",
    "%matplotlib inline\n",
    "\n"
   ]
  },
  {
   "cell_type": "code",
   "execution_count": 9,
   "id": "ea87691d",
   "metadata": {},
   "outputs": [],
   "source": [
    "churn = pd.read_csv('data/cleaned_churn.csv', index_col = 0)"
   ]
  },
  {
   "cell_type": "code",
   "execution_count": 12,
   "id": "a0f89c06",
   "metadata": {},
   "outputs": [],
   "source": [
    "churn['last_trip_date'] = pd.to_datetime(churn['last_trip_date'])\n",
    "churn['signup_date'] = pd.to_datetime(churn['signup_date'])"
   ]
  },
  {
   "cell_type": "code",
   "execution_count": 19,
   "id": "6a3e5bd6",
   "metadata": {},
   "outputs": [],
   "source": [
    "X = churn.drop(['last_trip_date', 'signup_date', 'retention'], axis=1)\n",
    "y = churn['retention']"
   ]
  },
  {
   "cell_type": "code",
   "execution_count": 21,
   "id": "0acc79b3",
   "metadata": {},
   "outputs": [],
   "source": [
    "X_train, X_test, y_train, y_test = train_test_split(X, y)"
   ]
  },
  {
   "cell_type": "code",
   "execution_count": 46,
   "id": "3625f234",
   "metadata": {},
   "outputs": [],
   "source": [
    "model = GradientBoostingClassifier(learning_rate = .1,\n",
    "                                 n_estimators=100)"
   ]
  },
  {
   "cell_type": "code",
   "execution_count": 47,
   "id": "e4582229",
   "metadata": {},
   "outputs": [],
   "source": [
    "model.fit(X_train, y_train)\n",
    "feat_imp = model.feature_importances_"
   ]
  },
  {
   "cell_type": "code",
   "execution_count": 48,
   "id": "1e0928da",
   "metadata": {},
   "outputs": [],
   "source": [
    "yhat = model.predict(X_test)"
   ]
  },
  {
   "cell_type": "code",
   "execution_count": 49,
   "id": "08474fb2",
   "metadata": {},
   "outputs": [
    {
     "data": {
      "text/plain": [
       "array([ True, False,  True, ..., False, False,  True])"
      ]
     },
     "execution_count": 49,
     "metadata": {},
     "output_type": "execute_result"
    }
   ],
   "source": [
    "yhat"
   ]
  },
  {
   "cell_type": "code",
   "execution_count": 51,
   "id": "83bfd540",
   "metadata": {},
   "outputs": [
    {
     "name": "stdout",
     "output_type": "stream",
     "text": [
      "dict_keys(['fit_time', 'score_time', 'test_acc', 'train_acc', 'test_prec', 'train_prec', 'test_rec', 'train_rec'])\n",
      "0.7886333333333333\n",
      "0.7460465353175694\n",
      "0.6620458679319889\n"
     ]
    }
   ],
   "source": [
    "from sklearn.model_selection import cross_validate\n",
    "\n",
    "scoring = {'acc': 'accuracy',\n",
    "           'prec': 'precision',\n",
    "           'rec': 'recall'}\n",
    "\n",
    "scores = cross_validate(GradientBoostingClassifier(), X_train, y_train, scoring=scoring,\n",
    "                         cv=10, return_train_score=True)\n",
    "print(scores.keys())\n",
    "print(np.mean(scores['test_acc'])) \n",
    "print(np.mean(scores['test_prec']))\n",
    "print(np.mean(scores['test_rec']))"
   ]
  },
  {
   "cell_type": "code",
   "execution_count": 31,
   "id": "93c7f3d1",
   "metadata": {},
   "outputs": [
    {
     "name": "stdout",
     "output_type": "stream",
     "text": [
      "avg_dist : 0.018007252677353636\n",
      "avg_rating_by_driver : 0.22732149969624085\n",
      "avg_rating_of_driver : 0.011906099882766138\n",
      "avg_surge : 0.0043499868399234955\n",
      "surge_pct : 0.1863985912999881\n",
      "trips_in_first_30_days : 0.04401350413575053\n",
      "luxury_car_user : 0.06908522816760335\n",
      "weekday_pct : 0.16936555995377836\n",
      "rating_by_driver? : 0.0008269753609271424\n",
      "rating_of_driver? : 0.0007987614404506778\n",
      "King's Landing : 0.1654351791912978\n",
      "Winterfell : 0.014682716808935495\n",
      "Android : 0.03762522016960844\n",
      "iPhone : 0.05018342437537609\n"
     ]
    }
   ],
   "source": [
    "for a, b in zip(X.columns, feat_imp):\n",
    "    print(f\"{a} : {b}\")"
   ]
  },
  {
   "cell_type": "code",
   "execution_count": null,
   "id": "ea2d1015",
   "metadata": {},
   "outputs": [],
   "source": [
    "gradient_boosting_grid = {'learning_rate': [0.1, 0.05, 0.02, 0.01],\n",
    "                          'max_depth': [2, 4, 6],\n",
    "                          'min_samples_leaf': [1, 2, 5, 10],\n",
    "                          'max_features': [1.0, 0.3, 0.1],\n",
    "                          'n_estimators': [500],\n",
    "                          'random_state': [1]}\n",
    "gdbr_best_params, gdbr_best_model = gridsearch_with_output(GradientBoostingClassifier(), \n",
    "                                                           gradient_boosting_grid, \n",
    "                                                           X_train, y_train)\n",
    "\n"
   ]
  }
 ],
 "metadata": {
  "kernelspec": {
   "display_name": "Python 3",
   "language": "python",
   "name": "python3"
  },
  "language_info": {
   "codemirror_mode": {
    "name": "ipython",
    "version": 3
   },
   "file_extension": ".py",
   "mimetype": "text/x-python",
   "name": "python",
   "nbconvert_exporter": "python",
   "pygments_lexer": "ipython3",
   "version": "3.8.2"
  }
 },
 "nbformat": 4,
 "nbformat_minor": 5
}
