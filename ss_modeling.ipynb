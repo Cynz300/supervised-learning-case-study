{
 "cells": [
  {
   "cell_type": "code",
   "execution_count": 65,
   "id": "37d1406a",
   "metadata": {},
   "outputs": [],
   "source": [
    "import pandas as pd\n",
    "import numpy as np\n",
    "from sklearn.ensemble import GradientBoostingClassifier  \n",
    "from sklearn.model_selection import train_test_split\n",
    "from sklearn.metrics import mean_squared_error as mse\n",
    "from sklearn.metrics import accuracy_score, recall_score, precision_score, confusion_matrix\n",
    "from sklearn.model_selection import GridSearchCV \n",
    "import matplotlib.pyplot as plt\n",
    "\n",
    "%matplotlib inline\n",
    "\n"
   ]
  },
  {
   "cell_type": "code",
   "execution_count": 9,
   "id": "ed01e313",
   "metadata": {},
   "outputs": [],
   "source": [
    "churn = pd.read_csv('data/cleaned_churn.csv', index_col = 0)"
   ]
  },
  {
   "cell_type": "code",
   "execution_count": 12,
   "id": "aa72f603",
   "metadata": {},
   "outputs": [],
   "source": [
    "churn['last_trip_date'] = pd.to_datetime(churn['last_trip_date'])\n",
    "churn['signup_date'] = pd.to_datetime(churn['signup_date'])"
   ]
  },
  {
   "cell_type": "code",
   "execution_count": 60,
   "id": "ea5bbb03",
   "metadata": {},
   "outputs": [],
   "source": [
    "earliest = churn['signup_date'].min().toordinal()\n",
    "churn['signup_date'] = churn['signup_date'].apply(lambda x: x.toordinal() - earliest)"
   ]
  },
  {
   "cell_type": "code",
   "execution_count": 61,
   "id": "9432c957",
   "metadata": {},
   "outputs": [],
   "source": [
    "X = churn.drop(['last_trip_date', 'retention'], axis=1)\n",
    "y = churn['retention']"
   ]
  },
  {
   "cell_type": "code",
   "execution_count": 62,
   "id": "0eb45e86",
   "metadata": {},
   "outputs": [],
   "source": [
    "X_train, X_test, y_train, y_test = train_test_split(X, y)"
   ]
  },
  {
   "cell_type": "code",
   "execution_count": 46,
   "id": "a9f8bfae",
   "metadata": {},
   "outputs": [],
   "source": [
    "model = GradientBoostingClassifier(learning_rate = .1,\n",
    "                                 n_estimators=100)"
   ]
  },
  {
   "cell_type": "code",
   "execution_count": 47,
   "id": "74977777",
   "metadata": {},
   "outputs": [],
   "source": [
    "model.fit(X_train, y_train)\n",
    "feat_imp = model.feature_importances_"
   ]
  },
  {
   "cell_type": "code",
   "execution_count": 48,
   "id": "b8205122",
   "metadata": {},
   "outputs": [],
   "source": [
    "yhat = model.predict(X_test)"
   ]
  },
  {
   "cell_type": "code",
   "execution_count": 49,
   "id": "a366eba8",
   "metadata": {},
   "outputs": [
    {
     "data": {
      "text/plain": [
       "array([ True, False,  True, ..., False, False,  True])"
      ]
     },
     "execution_count": 49,
     "metadata": {},
     "output_type": "execute_result"
    }
   ],
   "source": [
    "yhat"
   ]
  },
  {
   "cell_type": "code",
   "execution_count": 51,
   "id": "b7c2d3b1",
   "metadata": {},
   "outputs": [
    {
     "name": "stdout",
     "output_type": "stream",
     "text": [
      "dict_keys(['fit_time', 'score_time', 'test_acc', 'train_acc', 'test_prec', 'train_prec', 'test_rec', 'train_rec'])\n",
      "0.7886333333333333\n",
      "0.7460465353175694\n",
      "0.6620458679319889\n"
     ]
    }
   ],
   "source": [
    "from sklearn.model_selection import cross_validate\n",
    "\n",
    "scoring = {'acc': 'accuracy',\n",
    "           'prec': 'precision',\n",
    "           'rec': 'recall'}\n",
    "\n",
    "scores = cross_validate(GradientBoostingClassifier(), X_train, y_train, scoring=scoring,\n",
    "                         cv=10, return_train_score=True)\n",
    "print(scores.keys())\n",
    "print(np.mean(scores['test_acc'])) \n",
    "print(np.mean(scores['test_prec']))\n",
    "print(np.mean(scores['test_rec']))"
   ]
  },
  {
   "cell_type": "code",
   "execution_count": 31,
   "id": "50debf21",
   "metadata": {},
   "outputs": [
    {
     "name": "stdout",
     "output_type": "stream",
     "text": [
      "avg_dist : 0.018007252677353636\n",
      "avg_rating_by_driver : 0.22732149969624085\n",
      "avg_rating_of_driver : 0.011906099882766138\n",
      "avg_surge : 0.0043499868399234955\n",
      "surge_pct : 0.1863985912999881\n",
      "trips_in_first_30_days : 0.04401350413575053\n",
      "luxury_car_user : 0.06908522816760335\n",
      "weekday_pct : 0.16936555995377836\n",
      "rating_by_driver? : 0.0008269753609271424\n",
      "rating_of_driver? : 0.0007987614404506778\n",
      "King's Landing : 0.1654351791912978\n",
      "Winterfell : 0.014682716808935495\n",
      "Android : 0.03762522016960844\n",
      "iPhone : 0.05018342437537609\n"
     ]
    }
   ],
   "source": [
    "for a, b in zip(X.columns, feat_imp):\n",
    "    print(f\"{a} : {b}\")"
   ]
  },
  {
   "cell_type": "code",
   "execution_count": 53,
   "id": "c75d5f40",
   "metadata": {},
   "outputs": [
    {
     "data": {
      "text/plain": [
       "array([[5366,  849],\n",
       "       [1299, 2486]])"
      ]
     },
     "execution_count": 53,
     "metadata": {},
     "output_type": "execute_result"
    }
   ],
   "source": [
    "confusion_matrix(y_test, yhat)"
   ]
  },
  {
   "cell_type": "code",
   "execution_count": 54,
   "id": "19231792",
   "metadata": {},
   "outputs": [
    {
     "data": {
      "text/plain": [
       "0.7852"
      ]
     },
     "execution_count": 54,
     "metadata": {},
     "output_type": "execute_result"
    }
   ],
   "source": [
    "accuracy_score(y_test, yhat)"
   ]
  },
  {
   "cell_type": "code",
   "execution_count": 55,
   "id": "9c892481",
   "metadata": {},
   "outputs": [
    {
     "data": {
      "text/plain": [
       "0.6568031704095112"
      ]
     },
     "execution_count": 55,
     "metadata": {},
     "output_type": "execute_result"
    }
   ],
   "source": [
    "recall_score(y_test, yhat)"
   ]
  },
  {
   "cell_type": "code",
   "execution_count": 56,
   "id": "586540b0",
   "metadata": {},
   "outputs": [
    {
     "data": {
      "text/plain": [
       "0.7454272863568215"
      ]
     },
     "execution_count": 56,
     "metadata": {},
     "output_type": "execute_result"
    }
   ],
   "source": [
    "precision_score(y_test, yhat)"
   ]
  },
  {
   "cell_type": "code",
   "execution_count": 58,
   "id": "9771ae3e",
   "metadata": {},
   "outputs": [],
   "source": [
    "retained = len(churn[churn['retention'] == True])\n",
    "churned = len(churn[churn['retention'] == False])"
   ]
  },
  {
   "cell_type": "code",
   "execution_count": 59,
   "id": "087a5e66",
   "metadata": {},
   "outputs": [
    {
     "data": {
      "text/plain": [
       "0.3758"
      ]
     },
     "execution_count": 59,
     "metadata": {},
     "output_type": "execute_result"
    }
   ],
   "source": [
    "retained / (retained + churned)"
   ]
  },
  {
   "cell_type": "code",
   "execution_count": null,
   "id": "e93f15a8",
   "metadata": {},
   "outputs": [],
   "source": [
    "optimal_params = {'learning_rate': 0.15,\n",
    "                'max_depth': 4,\n",
    "                 'max_features': 'sqrt',\n",
    "                 'min_samples_leaf': 1,\n",
    "                 'n_estimators': 100,\n",
    "                 'random_state': 1,\n",
    "                     'subsample': 1}"
   ]
  },
  {
   "cell_type": "code",
   "execution_count": 67,
   "id": "cff6117e",
   "metadata": {},
   "outputs": [],
   "source": [
    "gradient_boosting_grid = {'learning_rate': [.15],\n",
    "                          'max_depth': [4],\n",
    "                          'min_samples_leaf': [1],\n",
    "                          'max_features': ['sqrt'],\n",
    "                          'n_estimators': [100, 200, 300, 400, 500],\n",
    "                          'random_state': [1]}\n",
    "grid_seearch_boosted_cleaned = GridSearchCV(estimator=GradientBoostingClassifier(), \n",
    "                                            n_jobs = -1,\n",
    "                                            param_grid=gradient_boosting_grid, \n",
    "                                             cv=5, verbose=1, return_train_score=True)"
   ]
  },
  {
   "cell_type": "code",
   "execution_count": 70,
   "id": "0fd02f0e",
   "metadata": {},
   "outputs": [],
   "source": [
    "final_model = GradientBoostingClassifier(learning_rate = 0.025, \n",
    "                                         max_depth = 4, \n",
    "                                         max_features =  'sqrt',\n",
    "                                         min_samples_leaf = 1,\n",
    "                                         n_estimators = 1000,\n",
    "                                         random_state = 1)"
   ]
  },
  {
   "cell_type": "code",
   "execution_count": 71,
   "id": "f9abcea5",
   "metadata": {},
   "outputs": [
    {
     "data": {
      "text/plain": [
       "GradientBoostingClassifier(learning_rate=0.025, max_depth=4,\n",
       "                           max_features='sqrt', n_estimators=1000,\n",
       "                           random_state=1)"
      ]
     },
     "execution_count": 71,
     "metadata": {},
     "output_type": "execute_result"
    }
   ],
   "source": [
    "final_model.fit(X_train, y_train)\n"
   ]
  },
  {
   "cell_type": "code",
   "execution_count": 72,
   "id": "cac7eb89",
   "metadata": {},
   "outputs": [
    {
     "data": {
      "text/plain": [
       "array([0.03383095, 0.1595977 , 0.02523574, 0.10615664, 0.01188515,\n",
       "       0.10643239, 0.0712984 , 0.07189704, 0.14395926, 0.00114973,\n",
       "       0.01201005, 0.15036351, 0.01469106, 0.05170625, 0.03978614])"
      ]
     },
     "execution_count": 72,
     "metadata": {},
     "output_type": "execute_result"
    }
   ],
   "source": [
    "final_model.feature_importances_"
   ]
  },
  {
   "cell_type": "code",
   "execution_count": 85,
   "id": "5ea7389d",
   "metadata": {},
   "outputs": [
    {
     "data": {
      "image/png": "[encoded data removed]",
      "text/plain": [
       "<Figure size 864x576 with 1 Axes>"
      ]
     },
     "metadata": {
      "needs_background": "light"
     },
     "output_type": "display_data"
    }
   ],
   "source": [
    "fig, ax = plt.subplots(figsize=(12, 8))\n",
    "ax.bar(X_train.columns, final_model.feature_importances_)\n",
    "ax.set_xticks(range(len(X_train.columns)))\n",
    "ax.set_xticklabels([col for col in X_train.columns], rotation = 90)\n",
    "fig.tight_layout()"
   ]
  },
  {
   "cell_type": "code",
   "execution_count": null,
   "id": "22f0520f",
   "metadata": {},
   "outputs": [],
   "source": []
  }
 ],
 "metadata": {
  "kernelspec": {
   "display_name": "Python 3",
   "language": "python",
   "name": "python3"
  },
  "language_info": {
   "codemirror_mode": {
    "name": "ipython",
    "version": 3
   },
   "file_extension": ".py",
   "mimetype": "text/x-python",
   "name": "python",
   "nbconvert_exporter": "python",
   "pygments_lexer": "ipython3",
   "version": "3.8.2"
  }
 },
 "nbformat": 4,
 "nbformat_minor": 5
}
