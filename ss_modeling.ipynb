{
 "cells": [
  {
   "cell_type": "code",
   "execution_count": 65,
   "id": "c91a0eb3",
   "metadata": {},
   "outputs": [],
   "source": [
    "import pandas as pd\n",
    "import numpy as np\n",
    "from sklearn.ensemble import GradientBoostingClassifier  \n",
    "from sklearn.model_selection import train_test_split\n",
    "from sklearn.metrics import mean_squared_error as mse\n",
    "from sklearn.metrics import accuracy_score, recall_score, precision_score, confusion_matrix\n",
    "from sklearn.model_selection import GridSearchCV \n",
    "import matplotlib.pyplot as plt\n",
    "\n",
    "%matplotlib inline\n",
    "\n"
   ]
  },
  {
   "cell_type": "code",
   "execution_count": 86,
   "id": "82a191ef",
   "metadata": {},
   "outputs": [],
   "source": [
    "churn = pd.read_csv('data/liben_churn.csv', index_col = 0)"
   ]
  },
  {
   "cell_type": "code",
   "execution_count": 87,
   "id": "01405953",
   "metadata": {},
   "outputs": [],
   "source": [
    "churn['last_trip_date'] = pd.to_datetime(churn['last_trip_date'])\n",
    "churn['signup_date'] = pd.to_datetime(churn['signup_date'])"
   ]
  },
  {
   "cell_type": "code",
   "execution_count": 88,
   "id": "90837434",
   "metadata": {},
   "outputs": [],
   "source": [
    "earliest = churn['signup_date'].min().toordinal()\n",
    "churn['signup_date'] = churn['signup_date'].apply(lambda x: x.toordinal() - earliest)"
   ]
  },
  {
   "cell_type": "code",
   "execution_count": 89,
   "id": "1f272324",
   "metadata": {},
   "outputs": [],
   "source": [
    "X = churn.drop(['last_trip_date', 'retention'], axis=1)\n",
    "y = churn['retention']"
   ]
  },
  {
   "cell_type": "code",
   "execution_count": 90,
   "id": "4a4997e3",
   "metadata": {},
   "outputs": [],
   "source": [
    "X_train, X_test, y_train, y_test = train_test_split(X, y)"
   ]
  },
  {
   "cell_type": "code",
   "execution_count": 46,
   "id": "1462a177",
   "metadata": {},
   "outputs": [],
   "source": [
    "model = GradientBoostingClassifier(learning_rate = .1,\n",
    "                                 n_estimators=100)"
   ]
  },
  {
   "cell_type": "code",
   "execution_count": 47,
   "id": "32c99ecc",
   "metadata": {},
   "outputs": [],
   "source": [
    "model.fit(X_train, y_train)\n",
    "feat_imp = model.feature_importances_"
   ]
  },
  {
   "cell_type": "code",
   "execution_count": 48,
   "id": "72681ed8",
   "metadata": {},
   "outputs": [],
   "source": [
    "yhat = model.predict(X_test)"
   ]
  },
  {
   "cell_type": "code",
   "execution_count": 49,
   "id": "133e044d",
   "metadata": {},
   "outputs": [
    {
     "data": {
      "text/plain": [
       "array([ True, False,  True, ..., False, False,  True])"
      ]
     },
     "execution_count": 49,
     "metadata": {},
     "output_type": "execute_result"
    }
   ],
   "source": [
    "yhat"
   ]
  },
  {
   "cell_type": "code",
   "execution_count": 51,
   "id": "970c695d",
   "metadata": {},
   "outputs": [
    {
     "name": "stdout",
     "output_type": "stream",
     "text": [
      "dict_keys(['fit_time', 'score_time', 'test_acc', 'train_acc', 'test_prec', 'train_prec', 'test_rec', 'train_rec'])\n",
      "0.7886333333333333\n",
      "0.7460465353175694\n",
      "0.6620458679319889\n"
     ]
    }
   ],
   "source": [
    "from sklearn.model_selection import cross_validate\n",
    "\n",
    "scoring = {'acc': 'accuracy',\n",
    "           'prec': 'precision',\n",
    "           'rec': 'recall'}\n",
    "\n",
    "scores = cross_validate(GradientBoostingClassifier(), X_train, y_train, scoring=scoring,\n",
    "                         cv=10, return_train_score=True)\n",
    "print(scores.keys())\n",
    "print(np.mean(scores['test_acc'])) \n",
    "print(np.mean(scores['test_prec']))\n",
    "print(np.mean(scores['test_rec']))"
   ]
  },
  {
   "cell_type": "code",
   "execution_count": 31,
   "id": "81bfb3b8",
   "metadata": {},
   "outputs": [
    {
     "name": "stdout",
     "output_type": "stream",
     "text": [
      "avg_dist : 0.018007252677353636\n",
      "avg_rating_by_driver : 0.22732149969624085\n",
      "avg_rating_of_driver : 0.011906099882766138\n",
      "avg_surge : 0.0043499868399234955\n",
      "surge_pct : 0.1863985912999881\n",
      "trips_in_first_30_days : 0.04401350413575053\n",
      "luxury_car_user : 0.06908522816760335\n",
      "weekday_pct : 0.16936555995377836\n",
      "rating_by_driver? : 0.0008269753609271424\n",
      "rating_of_driver? : 0.0007987614404506778\n",
      "King's Landing : 0.1654351791912978\n",
      "Winterfell : 0.014682716808935495\n",
      "Android : 0.03762522016960844\n",
      "iPhone : 0.05018342437537609\n"
     ]
    }
   ],
   "source": [
    "for a, b in zip(X.columns, feat_imp):\n",
    "    print(f\"{a} : {b}\")"
   ]
  },
  {
   "cell_type": "code",
   "execution_count": 53,
   "id": "cee8c01d",
   "metadata": {},
   "outputs": [
    {
     "data": {
      "text/plain": [
       "array([[5366,  849],\n",
       "       [1299, 2486]])"
      ]
     },
     "execution_count": 53,
     "metadata": {},
     "output_type": "execute_result"
    }
   ],
   "source": [
    "confusion_matrix(y_test, yhat)"
   ]
  },
  {
   "cell_type": "code",
   "execution_count": 54,
   "id": "4bfe9331",
   "metadata": {},
   "outputs": [
    {
     "data": {
      "text/plain": [
       "0.7852"
      ]
     },
     "execution_count": 54,
     "metadata": {},
     "output_type": "execute_result"
    }
   ],
   "source": [
    "accuracy_score(y_test, yhat)"
   ]
  },
  {
   "cell_type": "code",
   "execution_count": 55,
   "id": "5c3211b1",
   "metadata": {},
   "outputs": [
    {
     "data": {
      "text/plain": [
       "0.6568031704095112"
      ]
     },
     "execution_count": 55,
     "metadata": {},
     "output_type": "execute_result"
    }
   ],
   "source": [
    "recall_score(y_test, yhat)"
   ]
  },
  {
   "cell_type": "code",
   "execution_count": 56,
   "id": "29a1ed69",
   "metadata": {},
   "outputs": [
    {
     "data": {
      "text/plain": [
       "0.7454272863568215"
      ]
     },
     "execution_count": 56,
     "metadata": {},
     "output_type": "execute_result"
    }
   ],
   "source": [
    "precision_score(y_test, yhat)"
   ]
  },
  {
   "cell_type": "code",
   "execution_count": 58,
   "id": "b72a132c",
   "metadata": {},
   "outputs": [],
   "source": [
    "retained = len(churn[churn['retention'] == True])\n",
    "churned = len(churn[churn['retention'] == False])"
   ]
  },
  {
   "cell_type": "code",
   "execution_count": 59,
   "id": "7f3afb0d",
   "metadata": {},
   "outputs": [
    {
     "data": {
      "text/plain": [
       "0.3758"
      ]
     },
     "execution_count": 59,
     "metadata": {},
     "output_type": "execute_result"
    }
   ],
   "source": [
    "retained / (retained + churned)"
   ]
  },
  {
   "cell_type": "code",
   "execution_count": null,
   "id": "7c345da5",
   "metadata": {},
   "outputs": [],
   "source": [
    "optimal_params = {'learning_rate': 0.15,\n",
    "                'max_depth': 4,\n",
    "                 'max_features': 'sqrt',\n",
    "                 'min_samples_leaf': 1,\n",
    "                 'n_estimators': 100,\n",
    "                 'random_state': 1,\n",
    "                     'subsample': 1}"
   ]
  },
  {
   "cell_type": "code",
   "execution_count": 67,
   "id": "03c70f4b",
   "metadata": {},
   "outputs": [],
   "source": [
    "gradient_boosting_grid = {'learning_rate': [.15],\n",
    "                          'max_depth': [4],\n",
    "                          'min_samples_leaf': [1],\n",
    "                          'max_features': ['sqrt'],\n",
    "                          'n_estimators': [100, 200, 300, 400, 500],\n",
    "                          'random_state': [1]}\n",
    "grid_seearch_boosted_cleaned = GridSearchCV(estimator=GradientBoostingClassifier(), \n",
    "                                            n_jobs = -1,\n",
    "                                            param_grid=gradient_boosting_grid, \n",
    "                                             cv=5, verbose=1, return_train_score=True)"
   ]
  },
  {
   "cell_type": "code",
   "execution_count": 91,
   "id": "c8b96b69",
   "metadata": {},
   "outputs": [],
   "source": [
    "final_model = GradientBoostingClassifier(learning_rate = 0.025, \n",
    "                                         max_depth = 4, \n",
    "                                         max_features =  'sqrt',\n",
    "                                         min_samples_leaf = 1,\n",
    "                                         n_estimators = 1000,\n",
    "                                         random_state = 1)"
   ]
  },
  {
   "cell_type": "code",
   "execution_count": 92,
   "id": "33f7bb52",
   "metadata": {},
   "outputs": [
    {
     "data": {
      "text/plain": [
       "GradientBoostingClassifier(learning_rate=0.025, max_depth=4,\n",
       "                           max_features='sqrt', n_estimators=1000,\n",
       "                           random_state=1)"
      ]
     },
     "execution_count": 92,
     "metadata": {},
     "output_type": "execute_result"
    }
   ],
   "source": [
    "final_model.fit(X_train, y_train)\n"
   ]
  },
  {
   "cell_type": "code",
   "execution_count": 107,
   "id": "e134f239",
   "metadata": {},
   "outputs": [],
   "source": [
    "feat_imps = final_model.feature_importances_"
   ]
  },
  {
   "cell_type": "code",
   "execution_count": 109,
   "id": "7da5e5d1",
   "metadata": {},
   "outputs": [
    {
     "data": {
      "text/plain": [
       "Index(['avg_rating_by_driver', 'weekday_pct', 'King's Landing', 'surge_pct',\n",
       "       'avg_surge', 'luxury_car_user', 'trips_in_first_30_days', 'Android',\n",
       "       'iPhone', 'Astapor', 'avg_dist', 'avg_rating_of_driver',\n",
       "       'rating_of_driver?', 'signup_date', 'Winterfell', 'rating_by_driver?',\n",
       "       'Other'],\n",
       "      dtype='object')"
      ]
     },
     "execution_count": 109,
     "metadata": {},
     "output_type": "execute_result"
    }
   ],
   "source": [
    "\n",
    "sorted_imp = X_train.columns[feat_imps.argsort()[::-1]]\n",
    "sorted_imp"
   ]
  },
  {
   "cell_type": "code",
   "execution_count": 112,
   "id": "4e45222a",
   "metadata": {},
   "outputs": [],
   "source": [
    "ordered_feats = sorted(feat_imps)[::-1]"
   ]
  },
  {
   "cell_type": "code",
   "execution_count": 113,
   "id": "bf209bc2",
   "metadata": {},
   "outputs": [
    {
     "data": {
      "image/png": "[encoded data removed]",
      "text/plain": [
       "<Figure size 864x576 with 1 Axes>"
      ]
     },
     "metadata": {
      "needs_background": "light"
     },
     "output_type": "display_data"
    }
   ],
   "source": [
    "fig, ax = plt.subplots(figsize=(12, 8))\n",
    "ax.bar(sorted_imp, ordered_feats)\n",
    "ax.set_xticks(range(len(X_train.columns)))\n",
    "ax.set_xticklabels([col for col in sorted_imp], rotation = 90)\n",
    "ax.set_title('Feature Importances')\n",
    "ax.set_xlabel('Feature')\n",
    "ax.set_ylabel('Mean')\n",
    "fig.tight_layout();"
   ]
  },
  {
   "cell_type": "code",
   "execution_count": null,
   "id": "e9adaa37",
   "metadata": {},
   "outputs": [],
   "source": []
  }
 ],
 "metadata": {
  "kernelspec": {
   "display_name": "Python 3",
   "language": "python",
   "name": "python3"
  },
  "language_info": {
   "codemirror_mode": {
    "name": "ipython",
    "version": 3
   },
   "file_extension": ".py",
   "mimetype": "text/x-python",
   "name": "python",
   "nbconvert_exporter": "python",
   "pygments_lexer": "ipython3",
   "version": "3.8.2"
  }
 },
 "nbformat": 4,
 "nbformat_minor": 5
}
